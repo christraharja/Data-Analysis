{
  "nbformat": 4,
  "nbformat_minor": 0,
  "metadata": {
    "colab": {
      "name": "Untitled2.ipynb",
      "provenance": []
    },
    "kernelspec": {
      "name": "python3",
      "display_name": "Python 3"
    },
    "language_info": {
      "name": "python"
    }
  },
  "cells": [
    {
      "cell_type": "code",
      "metadata": {
        "colab": {
          "resources": {
            "http://localhost:8080/nbextensions/google.colab/files.js": {
              "data": "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",
              "ok": true,
              "headers": [
                [
                  "content-type",
                  "application/javascript"
                ]
              ],
              "status": 200,
              "status_text": ""
            }
          },
          "base_uri": "https://localhost:8080/",
          "height": 72
        },
        "id": "IonBBLejhlv1",
        "outputId": "ae37800d-b7bb-4eef-b886-8537562031e5"
      },
      "source": [
        "# importing the file to colab \n",
        "from google.colab import files\n",
        "uploaded = files.upload()"
      ],
      "execution_count": 3,
      "outputs": [
        {
          "output_type": "display_data",
          "data": {
            "text/html": [
              "\n",
              "     <input type=\"file\" id=\"files-6c05a7fd-4c77-496a-8b83-2dc16a2ad9d8\" name=\"files[]\" multiple disabled\n",
              "        style=\"border:none\" />\n",
              "     <output id=\"result-6c05a7fd-4c77-496a-8b83-2dc16a2ad9d8\">\n",
              "      Upload widget is only available when the cell has been executed in the\n",
              "      current browser session. Please rerun this cell to enable.\n",
              "      </output>\n",
              "      <script src=\"/nbextensions/google.colab/files.js\"></script> "
            ],
            "text/plain": [
              "<IPython.core.display.HTML object>"
            ]
          },
          "metadata": {}
        },
        {
          "output_type": "stream",
          "name": "stdout",
          "text": [
            "Saving technicaldataanalysis.xlsx to technicaldataanalysis.xlsx\n"
          ]
        }
      ]
    },
    {
      "cell_type": "code",
      "metadata": {
        "colab": {
          "base_uri": "https://localhost:8080/",
          "height": 306
        },
        "id": "BL_26ZHSh7wN",
        "outputId": "5c838455-071a-4209-dca7-440f4ac1be19"
      },
      "source": [
        "import pandas as pd\n",
        "# reading the csv file\n",
        "data = pd.read_excel(\"technicaldataanalysis.xlsx\")\n",
        "# get the overview of the dataset\n",
        "data.head()"
      ],
      "execution_count": 4,
      "outputs": [
        {
          "output_type": "execute_result",
          "data": {
            "text/html": [
              "<div>\n",
              "<style scoped>\n",
              "    .dataframe tbody tr th:only-of-type {\n",
              "        vertical-align: middle;\n",
              "    }\n",
              "\n",
              "    .dataframe tbody tr th {\n",
              "        vertical-align: top;\n",
              "    }\n",
              "\n",
              "    .dataframe thead th {\n",
              "        text-align: right;\n",
              "    }\n",
              "</style>\n",
              "<table border=\"1\" class=\"dataframe\">\n",
              "  <thead>\n",
              "    <tr style=\"text-align: right;\">\n",
              "      <th></th>\n",
              "      <th>User ID</th>\n",
              "      <th>First Name</th>\n",
              "      <th>Last Name</th>\n",
              "      <th>Full Name</th>\n",
              "      <th>Install</th>\n",
              "      <th>Uninstall Time</th>\n",
              "      <th>App Launch</th>\n",
              "      <th>Start Registration</th>\n",
              "      <th>Registration Completed</th>\n",
              "      <th>First Time Transaction</th>\n",
              "      <th>City Activity</th>\n",
              "      <th>Country Activity</th>\n",
              "      <th>OS</th>\n",
              "      <th>Age</th>\n",
              "    </tr>\n",
              "  </thead>\n",
              "  <tbody>\n",
              "    <tr>\n",
              "      <th>0</th>\n",
              "      <td>51206</td>\n",
              "      <td>Abby</td>\n",
              "      <td>Nixon</td>\n",
              "      <td>Abby Nixon</td>\n",
              "      <td>2021-01-06</td>\n",
              "      <td>2021-01-10 00:00:00</td>\n",
              "      <td>2021-01-06</td>\n",
              "      <td></td>\n",
              "      <td></td>\n",
              "      <td></td>\n",
              "      <td>Surabaya</td>\n",
              "      <td>Indonesia</td>\n",
              "      <td>IOS</td>\n",
              "      <td>20</td>\n",
              "    </tr>\n",
              "    <tr>\n",
              "      <th>1</th>\n",
              "      <td>58863</td>\n",
              "      <td>Abril</td>\n",
              "      <td>Hunter</td>\n",
              "      <td>Abril Hunter</td>\n",
              "      <td>2021-01-10</td>\n",
              "      <td>2021-01-11 00:00:00</td>\n",
              "      <td>2021-01-10</td>\n",
              "      <td></td>\n",
              "      <td></td>\n",
              "      <td></td>\n",
              "      <td>Surabaya</td>\n",
              "      <td>Indonesia</td>\n",
              "      <td>Android</td>\n",
              "      <td>19</td>\n",
              "    </tr>\n",
              "    <tr>\n",
              "      <th>2</th>\n",
              "      <td>58934</td>\n",
              "      <td>Ada</td>\n",
              "      <td>Murillo</td>\n",
              "      <td>Ada Murillo</td>\n",
              "      <td>2021-01-07</td>\n",
              "      <td>2021-01-09 00:00:00</td>\n",
              "      <td>2021-01-07</td>\n",
              "      <td></td>\n",
              "      <td></td>\n",
              "      <td></td>\n",
              "      <td>Tangerang</td>\n",
              "      <td>Indonesia</td>\n",
              "      <td>Android</td>\n",
              "      <td>19</td>\n",
              "    </tr>\n",
              "    <tr>\n",
              "      <th>3</th>\n",
              "      <td>54810</td>\n",
              "      <td>Addisyn</td>\n",
              "      <td>Bradford</td>\n",
              "      <td>Addisyn Bradford</td>\n",
              "      <td>2021-01-05</td>\n",
              "      <td></td>\n",
              "      <td>2021-01-05</td>\n",
              "      <td>2021-01-05 00:00:00</td>\n",
              "      <td>2021-01-05 00:00:00</td>\n",
              "      <td>2021-01-05 00:00:00</td>\n",
              "      <td>Tangerang</td>\n",
              "      <td>Indonesia</td>\n",
              "      <td>Android</td>\n",
              "      <td>19</td>\n",
              "    </tr>\n",
              "    <tr>\n",
              "      <th>4</th>\n",
              "      <td>51424</td>\n",
              "      <td>Adelyn</td>\n",
              "      <td>Simmons</td>\n",
              "      <td>Adelyn Simmons</td>\n",
              "      <td>2021-01-21</td>\n",
              "      <td></td>\n",
              "      <td>2021-01-21</td>\n",
              "      <td>2021-01-21 00:00:00</td>\n",
              "      <td>2021-01-21 00:00:00</td>\n",
              "      <td></td>\n",
              "      <td>Semarang</td>\n",
              "      <td>Indonesia</td>\n",
              "      <td>Android</td>\n",
              "      <td>22</td>\n",
              "    </tr>\n",
              "  </tbody>\n",
              "</table>\n",
              "</div>"
            ],
            "text/plain": [
              "   User ID First Name Last Name  ... Country Activity       OS Age\n",
              "0    51206       Abby     Nixon  ...        Indonesia      IOS  20\n",
              "1    58863      Abril    Hunter  ...        Indonesia  Android  19\n",
              "2    58934        Ada   Murillo  ...        Indonesia  Android  19\n",
              "3    54810    Addisyn  Bradford  ...        Indonesia  Android  19\n",
              "4    51424     Adelyn   Simmons  ...        Indonesia  Android  22\n",
              "\n",
              "[5 rows x 14 columns]"
            ]
          },
          "metadata": {},
          "execution_count": 4
        }
      ]
    },
    {
      "cell_type": "code",
      "metadata": {
        "colab": {
          "base_uri": "https://localhost:8080/",
          "height": 0
        },
        "id": "jpZCOk-tjMHP",
        "outputId": "b515650d-53be-40d7-c422-9020eccaf9a7"
      },
      "source": [
        "import pandas as pd\n",
        "# get the shape of the data\n",
        "data.shape\n",
        "# From the output, there are 907 rows and 14 columns"
      ],
      "execution_count": 13,
      "outputs": [
        {
          "output_type": "execute_result",
          "data": {
            "text/plain": [
              "(907, 14)"
            ]
          },
          "metadata": {},
          "execution_count": 13
        }
      ]
    },
    {
      "cell_type": "code",
      "metadata": {
        "colab": {
          "base_uri": "https://localhost:8080/",
          "height": 0
        },
        "id": "eraYZVWvjhCR",
        "outputId": "42b61dda-f185-42a8-a249-57621a22f0b2"
      },
      "source": [
        "import pandas as pd\n",
        "datadateinstall = data[\"Install \"].dt.date\n",
        "datadateinstall.head()\n",
        "data['Uninstall Time'] = pd.to_datetime(data['Uninstall Time'], errors='coerce')\n",
        "data['Uninstall Time'].head()\n",
        "data[\"diff\"] = data['Uninstall Time'] - data['Install ']\n",
        "# for those users who uninstalled the app, these are the most frequent duration of the app being on their device\n",
        "print(data['diff'].value_counts())\n",
        "# from the output, there are 335 users who uninstalled the app in less than a day, then followed by 104 users who uninstalled the app after the firsta day\n",
        "\n",
        "# get the mean and median of the duration of the app being on the users' device\n",
        "mean = data['diff'].mean()\n",
        "median = data['diff'].median()\n",
        "print(mean)\n",
        "print(median)\n",
        "# from the output the mean is 3 days and median is 0 day"
      ],
      "execution_count": 41,
      "outputs": [
        {
          "output_type": "stream",
          "name": "stdout",
          "text": [
            "0 days     335\n",
            "1 days     104\n",
            "2 days      40\n",
            "3 days      33\n",
            "5 days      22\n",
            "7 days      19\n",
            "4 days      17\n",
            "8 days       7\n",
            "6 days       6\n",
            "9 days       6\n",
            "22 days      5\n",
            "10 days      5\n",
            "18 days      4\n",
            "15 days      4\n",
            "50 days      3\n",
            "11 days      3\n",
            "21 days      3\n",
            "13 days      3\n",
            "30 days      3\n",
            "33 days      2\n",
            "17 days      2\n",
            "24 days      2\n",
            "70 days      2\n",
            "40 days      2\n",
            "12 days      2\n",
            "41 days      2\n",
            "14 days      2\n",
            "43 days      1\n",
            "32 days      1\n",
            "53 days      1\n",
            "25 days      1\n",
            "34 days      1\n",
            "27 days      1\n",
            "16 days      1\n",
            "52 days      1\n",
            "63 days      1\n",
            "37 days      1\n",
            "20 days      1\n",
            "23 days      1\n",
            "28 days      1\n",
            "31 days      1\n",
            "Name: diff, dtype: int64\n",
            "3 days 16:05:09.202453987\n",
            "0 days 00:00:00\n"
          ]
        }
      ]
    },
    {
      "cell_type": "code",
      "metadata": {
        "colab": {
          "base_uri": "https://localhost:8080/",
          "height": 345
        },
        "id": "YmuhWZLy7Slr",
        "outputId": "b388a93c-d173-410b-d586-9e12c4e0f67c"
      },
      "source": [
        "import pandas as pd\n",
        "import matplotlib.pyplot as plt\n",
        "# visualize the data below\n",
        "data['diff'].value_counts().plot.bar()\n",
        "plt.show()"
      ],
      "execution_count": 42,
      "outputs": [
        {
          "output_type": "display_data",
          "data": {
            "image/png": "[encoded data removed]",
            "text/plain": [
              "<Figure size 432x288 with 1 Axes>"
            ]
          },
          "metadata": {
            "needs_background": "light"
          }
        }
      ]
    },
    {
      "cell_type": "code",
      "metadata": {
        "colab": {
          "base_uri": "https://localhost:8080/",
          "height": 0
        },
        "id": "Zh_9erUK8wMJ",
        "outputId": "4cc91956-8462-4978-c0ff-764482d16d55"
      },
      "source": [
        "import pandas as pd\n",
        "# find the amount of users that still keep the app on their device\n",
        "print('the total amount of people who still keep the app on their device is' + ' ' + str(data['Uninstall Time'].isna().sum()))\n",
        "# from the output, from total of 907 people, only 255 users keep it\n",
        "remaininstalled = 255\n",
        "remaininstalledp = 255/907 * 100\n",
        "uninstalled = 907 - 255\n",
        "uninstalledp = uninstalled/907 * 100\n",
        "print(\"total people who uninstalled the app is\" + ' ' + str(uninstalled) + ' ' + \"which is\" + \" \" + str(uninstalledp) + \" %\")\n",
        "print(\"total people who keep the app is\" + ' ' + str(remaininstalled) + ' ' + \"which is\" + \" \" + str(remaininstalledp)  + \" %\")"
      ],
      "execution_count": 48,
      "outputs": [
        {
          "output_type": "stream",
          "name": "stdout",
          "text": [
            "the total amount of people who still keep the app on their device is 255\n",
            "total people who uninstalled the app is 652 which is 71.88533627342889 %\n",
            "total people who keep the app is 255 which is 28.114663726571116 %\n"
          ]
        }
      ]
    },
    {
      "cell_type": "code",
      "metadata": {
        "colab": {
          "base_uri": "https://localhost:8080/",
          "height": 421
        },
        "id": "z1dd-K4kAd69",
        "outputId": "a18a8134-8077-447b-f4fd-73104722e17f"
      },
      "source": [
        "import pandas as pd \n",
        "import matplotlib.pyplot as plt\n",
        "data['Start Registration '] = pd.to_datetime(data['Start Registration '], errors='coerce')\n",
        "data['Registration Completed'] = pd.to_datetime(data['Registration Completed'], errors='coerce')\n",
        "data[\"difference\"] = data['Registration Completed'] - data['Start Registration ']\n",
        "# get the most frequent duration for users to complete the reqistration\n",
        "print(data['difference'].value_counts())\n",
        "# visualize the data down here\n",
        "data[\"difference\"].value_counts().plot.bar()\n",
        "plt.show()\n",
        "# from the output, 275 users completed the registration process in only less than 1 day"
      ],
      "execution_count": 54,
      "outputs": [
        {
          "output_type": "stream",
          "name": "stdout",
          "text": [
            "0 days    275\n",
            "1 days     31\n",
            "2 days      2\n",
            "3 days      1\n",
            "Name: difference, dtype: int64\n"
          ]
        },
        {
          "output_type": "display_data",
          "data": {
            "image/png": "[encoded data removed]",
            "text/plain": [
              "<Figure size 432x288 with 1 Axes>"
            ]
          },
          "metadata": {
            "needs_background": "light"
          }
        }
      ]
    },
    {
      "cell_type": "code",
      "metadata": {
        "colab": {
          "base_uri": "https://localhost:8080/",
          "height": 0
        },
        "id": "S_Vmu7cmClqe",
        "outputId": "885493d3-8108-4e3b-a855-ac3f9231e1f5"
      },
      "source": [
        "import pandas as pd\n",
        "# get the amount of users who did not even start the registration\n",
        "print('the total of people who did not even start the registartion is' + \" \" + str(data['Start Registration '].isna().sum()))\n",
        "# get the amount of users who did start the registration but did not complete the process\n",
        "print('the total of people who did start the registration but did not complete the process is' + \" \" + str(data['Registration Completed'].isna().sum()))\n",
        "# get the amount of people who completed the registration\n",
        "total = 907\n",
        "complete = total - data['Registration Completed'].isna().sum()\n",
        "completep = complete/907 * 100\n",
        "print('the total of people who completed the process is' + ' ' + str(complete) + ' ' + 'which is only' + ' ' + str(completep) + ' %')"
      ],
      "execution_count": 58,
      "outputs": [
        {
          "output_type": "stream",
          "name": "stdout",
          "text": [
            "the total of people who did not even start the registartion is 282\n",
            "the total of people who did start the registration but did not complete the process is 598\n",
            "the total of people who completed the process is 309 which is only 34.0683572216097 %\n"
          ]
        }
      ]
    },
    {
      "cell_type": "code",
      "metadata": {
        "colab": {
          "base_uri": "https://localhost:8080/",
          "height": 529
        },
        "id": "a8dGU3OmC9Ag",
        "outputId": "b14cb239-8989-453e-c2a0-c647e9a71aa0"
      },
      "source": [
        "import pandas as pd\n",
        "import matplotlib.pyplot as plt\n",
        "# get the amount average day between completing the registration and performing their first transaction\n",
        "data['First Time Transaction'] = pd.to_datetime(data['First Time Transaction'], errors='coerce')\n",
        "data['Registration Completed'] = pd.to_datetime(data['Registration Completed'], errors='coerce')\n",
        "data['diff'] = data['First Time Transaction'] - data['Registration Completed']\n",
        "print(data['diff'].value_counts())\n",
        "mean = data['diff'].mean()\n",
        "print('the average time span between completing the registration and first time transaction is' + \" \" + str(mean))\n",
        "data['diff'].value_counts().plot.bar()\n",
        "plt.show()"
      ],
      "execution_count": 62,
      "outputs": [
        {
          "output_type": "stream",
          "name": "stdout",
          "text": [
            "0 days     74\n",
            "1 days     47\n",
            "3 days     13\n",
            "2 days      8\n",
            "12 days     4\n",
            "4 days      3\n",
            "7 days      1\n",
            "10 days     1\n",
            "5 days      1\n",
            "Name: diff, dtype: int64\n",
            "the average time span between completing the registration and first time transaction is 1 days 05:03:09.473684210\n"
          ]
        },
        {
          "output_type": "display_data",
          "data": {
            "image/png": "[encoded data removed]",
            "text/plain": [
              "<Figure size 432x288 with 1 Axes>"
            ]
          },
          "metadata": {
            "needs_background": "light"
          }
        }
      ]
    },
    {
      "cell_type": "code",
      "metadata": {
        "colab": {
          "base_uri": "https://localhost:8080/",
          "height": 0
        },
        "id": "xvkFeZQnFkYL",
        "outputId": "83699bdc-e139-4c10-85cb-19400d47e925"
      },
      "source": [
        "import pandas as pd\n",
        "# get the amount of users who did complete the registration however have not conducted their first transaction yet\n",
        "completeregistration = 309\n",
        "firsttransaction = completeregistration - data['Registration Completed'].isna().sum()\n",
        "print('the amount of users who did complete the registration however have not conducted their first transaction yet is' + ' ' + str(data['Registration Completed'].isna().sum()))\n",
        "print('the amount of users who did complete the registration and have performed their first transaction is' + ' ' + str(firsttransaction))"
      ],
      "execution_count": 16,
      "outputs": [
        {
          "output_type": "stream",
          "name": "stdout",
          "text": [
            "the amount of users who did complete the registration however have not conducted their first transaction yet is 37\n",
            "the amount of users who did complete the registration and have performed their first transaction is 272\n"
          ]
        }
      ]
    },
    {
      "cell_type": "code",
      "metadata": {
        "colab": {
          "base_uri": "https://localhost:8080/",
          "height": 0
        },
        "id": "gfVAgndTfjm0",
        "outputId": "73855260-68bb-46ee-8489-e48fa39626c3"
      },
      "source": [
        "import pandas as pd\n",
        "import matplotlib.pyplot as plt\n",
        "# get the most common users' demographic\n",
        "dataage = data['Age'].value_counts()\n",
        "print(dataage)"
      ],
      "execution_count": 6,
      "outputs": [
        {
          "output_type": "stream",
          "name": "stdout",
          "text": [
            "21    63\n",
            "24    60\n",
            "26    56\n",
            "23    56\n",
            "28    56\n",
            "29    55\n",
            "17    55\n",
            "22    55\n",
            "18    54\n",
            "19    49\n",
            "25    46\n",
            "27    45\n",
            "30    44\n",
            "20    40\n",
            "39    19\n",
            "31    15\n",
            "36    15\n",
            "32    14\n",
            "33    14\n",
            "40    14\n",
            "38    13\n",
            "34    12\n",
            "35    10\n",
            "37     8\n",
            "50     4\n",
            "47     4\n",
            "48     3\n",
            "45     3\n",
            "49     3\n",
            "65     3\n",
            "43     3\n",
            "41     3\n",
            "44     2\n",
            "42     2\n",
            "46     1\n",
            "51     1\n",
            "52     1\n",
            "53     1\n",
            "55     1\n",
            "57     1\n",
            "58     1\n",
            "59     1\n",
            "62     1\n",
            "Name: Age, dtype: int64\n"
          ]
        }
      ]
    },
    {
      "cell_type": "code",
      "metadata": {
        "colab": {
          "base_uri": "https://localhost:8080/",
          "height": 268
        },
        "id": "aLNJFr2dgzrt",
        "outputId": "8a8c3513-c5cd-4b41-8ef5-59c1645e3edc"
      },
      "source": [
        "import matplotlib.pyplot as plt\n",
        "# visualize the age data\n",
        "data['Age'].value_counts().plot.bar()\n",
        "plt.show()\n",
        "# from the output, the younger generation dominates the demographic of the population with 21 years old as the most frequent app downloader"
      ],
      "execution_count": 11,
      "outputs": [
        {
          "output_type": "display_data",
          "data": {
            "image/png": "[encoded data removed]",
            "text/plain": [
              "<Figure size 432x288 with 1 Axes>"
            ]
          },
          "metadata": {
            "needs_background": "light"
          }
        }
      ]
    },
    {
      "cell_type": "code",
      "metadata": {
        "colab": {
          "base_uri": "https://localhost:8080/",
          "height": 345
        },
        "id": "yfaTShIvzcSR",
        "outputId": "56fe5e07-32f9-4c2b-ea91-78aeb39de880"
      },
      "source": [
        "import pandas as pd\n",
        "import matplotlib.pyplot as plt\n",
        "dataos = data['OS'].value_counts()\n",
        "print(dataos)\n",
        "data['OS'].value_counts().plot.bar()\n",
        "plt.show()"
      ],
      "execution_count": 29,
      "outputs": [
        {
          "output_type": "stream",
          "name": "stdout",
          "text": [
            "Android    825\n",
            "IOS         82\n",
            "Name: OS, dtype: int64\n"
          ]
        },
        {
          "output_type": "display_data",
          "data": {
            "image/png": "[encoded data removed]",
            "text/plain": [
              "<Figure size 432x288 with 1 Axes>"
            ]
          },
          "metadata": {
            "needs_background": "light"
          }
        }
      ]
    }
  ]
}