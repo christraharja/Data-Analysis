{
  "nbformat": 4,
  "nbformat_minor": 0,
  "metadata": {
    "colab": {
      "name": "Untitled1.ipynb",
      "provenance": [],
      "collapsed_sections": []
    },
    "kernelspec": {
      "name": "python3",
      "display_name": "Python 3"
    },
    "language_info": {
      "name": "python"
    }
  },
  "cells": [
    {
      "cell_type": "code",
      "metadata": {
        "colab": {
          "resources": {
            "http://localhost:8080/nbextensions/google.colab/files.js": {
              "data": "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",
              "ok": true,
              "headers": [
                [
                  "content-type",
                  "application/javascript"
                ]
              ],
              "status": 200,
              "status_text": ""
            }
          },
          "base_uri": "https://localhost:8080/",
          "height": 72
        },
        "id": "7GYsgETjCqgZ",
        "outputId": "093df4eb-4feb-4060-fa19-e82a48c95e04"
      },
      "source": [
        "import pandas as pd\n",
        "import numpy as np\n",
        "# importing the file to colab \n",
        "from google.colab import files\n",
        "uploaded = files.upload()\n",
        "# datasource from https://www.kaggle.com/malcolm95/countries-shutting-down-the-internet-in-2021"
      ],
      "execution_count": 2,
      "outputs": [
        {
          "output_type": "display_data",
          "data": {
            "text/html": [
              "\n",
              "     <input type=\"file\" id=\"files-e7520834-d441-48f9-a812-e7822301e3a0\" name=\"files[]\" multiple disabled\n",
              "        style=\"border:none\" />\n",
              "     <output id=\"result-e7520834-d441-48f9-a812-e7822301e3a0\">\n",
              "      Upload widget is only available when the cell has been executed in the\n",
              "      current browser session. Please rerun this cell to enable.\n",
              "      </output>\n",
              "      <script src=\"/nbextensions/google.colab/files.js\"></script> "
            ],
            "text/plain": [
              "<IPython.core.display.HTML object>"
            ]
          },
          "metadata": {}
        },
        {
          "output_type": "stream",
          "text": [
            "Saving STOP-data-2021-Jan-May-for-public.csv to STOP-data-2021-Jan-May-for-public.csv\n"
          ],
          "name": "stdout"
        }
      ]
    },
    {
      "cell_type": "code",
      "metadata": {
        "colab": {
          "base_uri": "https://localhost:8080/",
          "height": 870
        },
        "id": "-qXBOvLZD2rq",
        "outputId": "3463257b-d5bb-4d50-8b0b-aed68cdf35c0"
      },
      "source": [
        "import pandas as pd\n",
        "# reading the csv file\n",
        "data = pd.read_csv(\"STOP-data-2021-Jan-May-for-public.csv\")\n",
        "# get the overview of the dataset\n",
        "data.head()"
      ],
      "execution_count": 3,
      "outputs": [
        {
          "output_type": "execute_result",
          "data": {
            "text/html": [
              "<div>\n",
              "<style scoped>\n",
              "    .dataframe tbody tr th:only-of-type {\n",
              "        vertical-align: middle;\n",
              "    }\n",
              "\n",
              "    .dataframe tbody tr th {\n",
              "        vertical-align: top;\n",
              "    }\n",
              "\n",
              "    .dataframe thead th {\n",
              "        text-align: right;\n",
              "    }\n",
              "</style>\n",
              "<table border=\"1\" class=\"dataframe\">\n",
              "  <thead>\n",
              "    <tr style=\"text-align: right;\">\n",
              "      <th></th>\n",
              "      <th>When did this shutdown start?</th>\n",
              "      <th>What is the current status of the internet shutdown? Is it ongoing?</th>\n",
              "      <th>When did the shutdown finish?</th>\n",
              "      <th>Which country did the shutdown occur in?</th>\n",
              "      <th>What is the scope of the shutdown?</th>\n",
              "      <th>Which area(s) city(ies) or region(s) were affected by this shutdown?</th>\n",
              "      <th>What type of shutdown is this?</th>\n",
              "      <th>What services did this shutdown impact?</th>\n",
              "      <th>Was this a full-network, or service-based, shutdown?</th>\n",
              "      <th>Who ordered the shutdown?</th>\n",
              "      <th>Who was the decision maker? Please provide any further information you have on who ordered the shutdown.</th>\n",
              "      <th>What was the actual cause of the shutdown?</th>\n",
              "      <th>Please provide further details on the actual cause of the internet shutdown, if known.</th>\n",
              "      <th>What is your primary source for this shutdown?</th>\n",
              "      <th>Please enter the reference links of the source if applicable. If there are more than one, divide them with a \";\" mark.</th>\n",
              "      <th>What was the official justification given for the shutdown?</th>\n",
              "      <th>Please give any further details on the official justification of the internet shutdown.</th>\n",
              "      <th>Has the Government acknowledged the shutdown?</th>\n",
              "      <th>Did the government or relevant authority give any legal justification or refer to a law?</th>\n",
              "      <th>Did the government or relevant authority use a memo, court order or similar instrument? Please provide a brief summary.</th>\n",
              "      <th>Please include a link to the official statement relating to the shutdown, if available.</th>\n",
              "      <th>Please include a quote from the relevant authorities relating to the justification of the shutdown, if available.</th>\n",
              "      <th>Was Facebook specifically targeted?</th>\n",
              "      <th>Was Twitter specifically targeted?</th>\n",
              "      <th>Was WhatsApp specifically targeted?</th>\n",
              "      <th>Was Instagram specifically targeted?</th>\n",
              "      <th>Was Telegram specifically targeted?</th>\n",
              "      <th>Please list any other web-based services that were specifically targeted during the service-based shutdown.</th>\n",
              "      <th>Were SMS services specifically targeted during the shutdown?</th>\n",
              "      <th>Were calling services specifically targeted during the shutdown?</th>\n",
              "      <th>Which Telco was involved in the shutting down of the internet or services?</th>\n",
              "      <th>Did the Telco acknowledge the shutdown happened?</th>\n",
              "      <th>Please provide a source (one URL) if the Telco has acknowledged the shutdown, if possible.</th>\n",
              "      <th>Please provide a quote from the Telco if they have acknowledged the shutdown, if possible.</th>\n",
              "      <th>Did this shutdown involve an election?</th>\n",
              "      <th>Did this shutdown involve physical violence?</th>\n",
              "      <th>Have any human rights abuses been reported that specifically relate to this shutdown?</th>\n",
              "      <th>Which of the following groups, if any, were impacted by the internet shutdown?</th>\n",
              "      <th>Please provide any further details on the users targeted in the shutdown.</th>\n",
              "      <th>Did users affected by the shutdown receive advance warning?</th>\n",
              "      <th>Please provide a short one- or two-sentence summary of the shutdown and the event that triggered it. Please note: This may be displayed publicly by Access Now.</th>\n",
              "      <th>Please provide a reference link to an article about the shutdown on Access Now's homepage, if applicable.</th>\n",
              "      <th>Please include any notes about this shutdown you feel are relevant for the KIO team. They will not be shared with external partners.</th>\n",
              "    </tr>\n",
              "  </thead>\n",
              "  <tbody>\n",
              "    <tr>\n",
              "      <th>0</th>\n",
              "      <td>6/22/2019</td>\n",
              "      <td>Ended</td>\n",
              "      <td>2/3/2021</td>\n",
              "      <td>Myanmar</td>\n",
              "      <td>It affected more than one city in the same sta...</td>\n",
              "      <td>Buthidaung, Rathedaung, Myabon, Paletwa, Ponna...</td>\n",
              "      <td>Throttle</td>\n",
              "      <td>Mobile</td>\n",
              "      <td>Full network</td>\n",
              "      <td>Executive government</td>\n",
              "      <td>Myanmar Ministry of Transport and Communicatio...</td>\n",
              "      <td>Political instability</td>\n",
              "      <td>NaN</td>\n",
              "      <td>News media article</td>\n",
              "      <td>https://www.accessnow.org/update-internet-acce...</td>\n",
              "      <td>Fake news/ Hate speech/ Incendiary content/ Pr...</td>\n",
              "      <td>Acts of terrorism, act of disturbance, and ill...</td>\n",
              "      <td>Yes</td>\n",
              "      <td>Unknown</td>\n",
              "      <td>NaN</td>\n",
              "      <td>NaN</td>\n",
              "      <td>NaN</td>\n",
              "      <td>No</td>\n",
              "      <td>No</td>\n",
              "      <td>No</td>\n",
              "      <td>No</td>\n",
              "      <td>No</td>\n",
              "      <td>NaN</td>\n",
              "      <td>No</td>\n",
              "      <td>No</td>\n",
              "      <td>Myanmar: Telenor</td>\n",
              "      <td>Yes</td>\n",
              "      <td>https://www.telenor.com/network-restored-in-ei...</td>\n",
              "      <td>NaN</td>\n",
              "      <td>No</td>\n",
              "      <td>Yes</td>\n",
              "      <td>Unknown</td>\n",
              "      <td>Ethnic minorities</td>\n",
              "      <td>NaN</td>\n",
              "      <td>No</td>\n",
              "      <td>Predominantly Rohingya, residents in Myanmar’s...</td>\n",
              "      <td>https://www.accessnow.org/elections-in-myanmar...</td>\n",
              "      <td>NaN</td>\n",
              "    </tr>\n",
              "    <tr>\n",
              "      <th>1</th>\n",
              "      <td>8/5/2019</td>\n",
              "      <td>Ended</td>\n",
              "      <td>2/5/2021</td>\n",
              "      <td>India</td>\n",
              "      <td>It affected more than one city in the same sta...</td>\n",
              "      <td>Jammu and Kashmir</td>\n",
              "      <td>Throttle</td>\n",
              "      <td>Mobile</td>\n",
              "      <td>Full network</td>\n",
              "      <td>Executive government</td>\n",
              "      <td>NaN</td>\n",
              "      <td>Political instability</td>\n",
              "      <td>NaN</td>\n",
              "      <td>News media article</td>\n",
              "      <td>https://indianexpress.com/article/india/jk-4g-...</td>\n",
              "      <td>National security/ Counter-terrorism</td>\n",
              "      <td>NaN</td>\n",
              "      <td>Yes</td>\n",
              "      <td>Yes</td>\n",
              "      <td>Yes. During 2021 the government issued Orders ...</td>\n",
              "      <td>http://jkhome.nic.in/pdf/07(TSTS)%20of%202021%...</td>\n",
              "      <td>NaN</td>\n",
              "      <td>No</td>\n",
              "      <td>No</td>\n",
              "      <td>No</td>\n",
              "      <td>No</td>\n",
              "      <td>No</td>\n",
              "      <td>NaN</td>\n",
              "      <td>No</td>\n",
              "      <td>No</td>\n",
              "      <td>NaN</td>\n",
              "      <td>Unknown</td>\n",
              "      <td>NaN</td>\n",
              "      <td>NaN</td>\n",
              "      <td>No</td>\n",
              "      <td>Unknown</td>\n",
              "      <td>Unknown</td>\n",
              "      <td>NaN</td>\n",
              "      <td>NaN</td>\n",
              "      <td>No</td>\n",
              "      <td>During 2021 the government issued Orders 01(TS...</td>\n",
              "      <td>https://www.accessnow.org/after-a-partial-rest...</td>\n",
              "      <td>NaN</td>\n",
              "    </tr>\n",
              "    <tr>\n",
              "      <th>2</th>\n",
              "      <td>11/4/2020</td>\n",
              "      <td>Ongoing</td>\n",
              "      <td>NaN</td>\n",
              "      <td>Ethiopia</td>\n",
              "      <td>It affected locations in more than one state, ...</td>\n",
              "      <td>Tigray</td>\n",
              "      <td>Shutdown</td>\n",
              "      <td>Broadband, Mobile</td>\n",
              "      <td>Full network</td>\n",
              "      <td>Unknown</td>\n",
              "      <td>NaN</td>\n",
              "      <td>Political instability</td>\n",
              "      <td>Civil war in Tigray region</td>\n",
              "      <td>News media article</td>\n",
              "      <td>https://www.youtube.com/watch?v=uEoa-7J6zpY; h...</td>\n",
              "      <td>Sabotage/ Third-party Action</td>\n",
              "      <td>https://www.youtube.com/watch?v=uEoa-7J6zpY</td>\n",
              "      <td>Yes</td>\n",
              "      <td>No</td>\n",
              "      <td>NaN</td>\n",
              "      <td>NaN</td>\n",
              "      <td>NaN</td>\n",
              "      <td>No</td>\n",
              "      <td>No</td>\n",
              "      <td>No</td>\n",
              "      <td>No</td>\n",
              "      <td>No</td>\n",
              "      <td>NaN</td>\n",
              "      <td>No</td>\n",
              "      <td>No</td>\n",
              "      <td>NaN</td>\n",
              "      <td>Yes</td>\n",
              "      <td>NaN</td>\n",
              "      <td>NaN</td>\n",
              "      <td>No</td>\n",
              "      <td>Yes</td>\n",
              "      <td>Yes</td>\n",
              "      <td>NaN</td>\n",
              "      <td>NaN</td>\n",
              "      <td>No</td>\n",
              "      <td>Full shutdown is ongoing in the Tigray region ...</td>\n",
              "      <td>NaN</td>\n",
              "      <td>NaN</td>\n",
              "    </tr>\n",
              "    <tr>\n",
              "      <th>3</th>\n",
              "      <td>12/30/2020</td>\n",
              "      <td>Ended</td>\n",
              "      <td>1/5/2021</td>\n",
              "      <td>India</td>\n",
              "      <td>It affected more than one city in the same sta...</td>\n",
              "      <td>Shopian and Pulwama districts</td>\n",
              "      <td>Shutdown</td>\n",
              "      <td>Mobile</td>\n",
              "      <td>Full network</td>\n",
              "      <td>Local government</td>\n",
              "      <td>Inspector General of the Kashmir Police, later...</td>\n",
              "      <td>Political instability</td>\n",
              "      <td>Security forces operation which resulted in an...</td>\n",
              "      <td>CSO KIO partners</td>\n",
              "      <td>https://thekashmirwalla.com/2021/01/in-kashmir...</td>\n",
              "      <td>National security/ Counter-terrorism</td>\n",
              "      <td>Security of the state and maintaining public o...</td>\n",
              "      <td>Yes</td>\n",
              "      <td>Yes</td>\n",
              "      <td>Yes. The IGP justified the shutdown in nationa...</td>\n",
              "      <td>http://jkhome.nic.in/pdf/146(TSTS)2020.pdf;</td>\n",
              "      <td>NaN</td>\n",
              "      <td>No</td>\n",
              "      <td>No</td>\n",
              "      <td>No</td>\n",
              "      <td>No</td>\n",
              "      <td>No</td>\n",
              "      <td>NaN</td>\n",
              "      <td>No</td>\n",
              "      <td>No</td>\n",
              "      <td>NaN</td>\n",
              "      <td>NaN</td>\n",
              "      <td>NaN</td>\n",
              "      <td>NaN</td>\n",
              "      <td>No</td>\n",
              "      <td>Yes</td>\n",
              "      <td>Unknown</td>\n",
              "      <td>NaN</td>\n",
              "      <td>NaN</td>\n",
              "      <td>No</td>\n",
              "      <td>A mobile internet shutdown occurred in Pulwama...</td>\n",
              "      <td>NaN</td>\n",
              "      <td>NaN</td>\n",
              "    </tr>\n",
              "    <tr>\n",
              "      <th>4</th>\n",
              "      <td>1/11/2021</td>\n",
              "      <td>Ended</td>\n",
              "      <td>1/12/2021</td>\n",
              "      <td>Tajikistan</td>\n",
              "      <td>It affected locations in more than one state, ...</td>\n",
              "      <td>NaN</td>\n",
              "      <td>Shutdown</td>\n",
              "      <td>Broadband, Mobile</td>\n",
              "      <td>Service-based</td>\n",
              "      <td>Unknown</td>\n",
              "      <td>NaN</td>\n",
              "      <td>Unknown</td>\n",
              "      <td>NaN</td>\n",
              "      <td>News media article</td>\n",
              "      <td>https://eurasianet.org/tajikistan-authorities-...</td>\n",
              "      <td>Unknown</td>\n",
              "      <td>NaN</td>\n",
              "      <td>No</td>\n",
              "      <td>NaN</td>\n",
              "      <td>NaN</td>\n",
              "      <td>NaN</td>\n",
              "      <td>NaN</td>\n",
              "      <td>Yes</td>\n",
              "      <td>No</td>\n",
              "      <td>No</td>\n",
              "      <td>Yes</td>\n",
              "      <td>No</td>\n",
              "      <td>Gmail</td>\n",
              "      <td>No</td>\n",
              "      <td>No</td>\n",
              "      <td>NaN</td>\n",
              "      <td>No</td>\n",
              "      <td>NaN</td>\n",
              "      <td>NaN</td>\n",
              "      <td>No</td>\n",
              "      <td>No</td>\n",
              "      <td>No</td>\n",
              "      <td>NaN</td>\n",
              "      <td>NaN</td>\n",
              "      <td>No</td>\n",
              "      <td>Facebook, instagram and gmail were reported to...</td>\n",
              "      <td>NaN</td>\n",
              "      <td>NaN</td>\n",
              "    </tr>\n",
              "  </tbody>\n",
              "</table>\n",
              "</div>"
            ],
            "text/plain": [
              "  When did this shutdown start?  ... Please include any notes about this shutdown you feel are relevant for the KIO team. They will not be shared with external partners. \n",
              "0                     6/22/2019  ...                                                NaN                                                                                   \n",
              "1                      8/5/2019  ...                                                NaN                                                                                   \n",
              "2                     11/4/2020  ...                                                NaN                                                                                   \n",
              "3                    12/30/2020  ...                                                NaN                                                                                   \n",
              "4                     1/11/2021  ...                                                NaN                                                                                   \n",
              "\n",
              "[5 rows x 43 columns]"
            ]
          },
          "metadata": {},
          "execution_count": 3
        }
      ]
    },
    {
      "cell_type": "code",
      "metadata": {
        "colab": {
          "base_uri": "https://localhost:8080/"
        },
        "id": "fhUgnIKDEfDg",
        "outputId": "d981a01a-3f2a-4ba3-e6ee-f1d9eb719603"
      },
      "source": [
        "# get the info\n",
        "data.info()"
      ],
      "execution_count": null,
      "outputs": [
        {
          "output_type": "stream",
          "text": [
            "<class 'pandas.core.frame.DataFrame'>\n",
            "RangeIndex: 50 entries, 0 to 49\n",
            "Data columns (total 43 columns):\n",
            " #   Column                                                                                                                                                           Non-Null Count  Dtype  \n",
            "---  ------                                                                                                                                                           --------------  -----  \n",
            " 0   When did this shutdown start?                                                                                                                                    50 non-null     object \n",
            " 1   What is the current status of the internet shutdown? Is it ongoing?                                                                                              50 non-null     object \n",
            " 2   When did the shutdown finish?                                                                                                                                    36 non-null     object \n",
            " 3   Which country did the shutdown occur in?                                                                                                                         50 non-null     object \n",
            " 4   What is the scope of the shutdown?                                                                                                                               50 non-null     object \n",
            " 5   Which area(s) city(ies) or region(s) were affected by this shutdown?                                                                                             42 non-null     object \n",
            " 6   What type of shutdown is this?                                                                                                                                   50 non-null     object \n",
            " 7   What services did this shutdown impact?                                                                                                                          50 non-null     object \n",
            " 8   Was this a full-network, or service-based, shutdown?                                                                                                             50 non-null     object \n",
            " 9   Who ordered the shutdown?                                                                                                                                        50 non-null     object \n",
            " 10  Who was the decision maker? Please provide any further information you have on who ordered the shutdown.                                                         19 non-null     object \n",
            " 11  What was the actual cause of the shutdown?                                                                                                                       50 non-null     object \n",
            " 12  Please provide further details on the actual cause of the internet shutdown, if known.                                                                           30 non-null     object \n",
            " 13  What is your primary source for this shutdown?                                                                                                                   50 non-null     object \n",
            " 14  Please enter the reference links of the source if applicable. If there are more than one, divide them with a \";\" mark.                                           49 non-null     object \n",
            " 15  What was the official justification given for the shutdown?                                                                                                      50 non-null     object \n",
            " 16  Please give any further details on the official justification of the internet shutdown.                                                                          21 non-null     object \n",
            " 17  Has the Government acknowledged the shutdown?                                                                                                                    50 non-null     object \n",
            " 18  Did the government or relevant authority give any legal justification or refer to a law?                                                                         21 non-null     object \n",
            " 19  Did the government or relevant authority use a memo, court order or similar instrument? Please provide a brief summary.                                          11 non-null     object \n",
            " 20  Please include a link to the official statement relating to the shutdown, if available.                                                                          16 non-null     object \n",
            " 21  Please include a quote from the relevant authorities relating to the justification of the shutdown, if available.                                                1 non-null      object \n",
            " 22  Was Facebook specifically targeted?                                                                                                                              50 non-null     object \n",
            " 23  Was Twitter specifically targeted?                                                                                                                               50 non-null     object \n",
            " 24  Was WhatsApp specifically targeted?                                                                                                                              50 non-null     object \n",
            " 25  Was Instagram specifically targeted?                                                                                                                             50 non-null     object \n",
            " 26  Was Telegram specifically targeted?                                                                                                                              50 non-null     object \n",
            " 27  Please list any other web-based services that were specifically targeted during the service-based shutdown.                                                      7 non-null      object \n",
            " 28  Were SMS services specifically targeted during the shutdown?                                                                                                     50 non-null     object \n",
            " 29  Were calling services specifically targeted during the shutdown?                                                                                                 49 non-null     object \n",
            " 30  Which Telco was involved in the shutting down of the internet or services?                                                                                       7 non-null      object \n",
            " 31  Did the Telco acknowledge the shutdown happened?                                                                                                                 44 non-null     object \n",
            " 32  Please provide a source (one URL) if the Telco has acknowledged the shutdown, if possible.                                                                       6 non-null      object \n",
            " 33  Please provide a quote from the Telco if they have acknowledged the shutdown, if possible.                                                                       0 non-null      float64\n",
            " 34  Did this shutdown involve an election?                                                                                                                           50 non-null     object \n",
            " 35  Did this shutdown involve physical violence?                                                                                                                     50 non-null     object \n",
            " 36  Have any human rights abuses been reported that specifically relate to this shutdown?                                                                            50 non-null     object \n",
            " 37  Which of the following groups, if any, were impacted by the internet shutdown?                                                                                   2 non-null      object \n",
            " 38  Please provide any further details on the users targeted in the shutdown.                                                                                        1 non-null      object \n",
            " 39  Did users affected by the shutdown receive advance warning?                                                                                                      49 non-null     object \n",
            " 40  Please provide a short one- or two-sentence summary of the shutdown and the event that triggered it. Please note: This may be displayed publicly by Access Now.  49 non-null     object \n",
            " 41  Please provide a reference link to an article about the shutdown on Access Now's homepage, if applicable.                                                        12 non-null     object \n",
            " 42  Please include any notes about this shutdown you feel are relevant for the KIO team. They will not be shared with external partners.                             2 non-null      object \n",
            "dtypes: float64(1), object(42)\n",
            "memory usage: 16.9+ KB\n"
          ],
          "name": "stdout"
        }
      ]
    },
    {
      "cell_type": "code",
      "metadata": {
        "colab": {
          "base_uri": "https://localhost:8080/"
        },
        "id": "wO8C9nYYFKmn",
        "outputId": "1d736807-b945-4fa5-a468-73eb64a8c027"
      },
      "source": [
        "data.shape"
      ],
      "execution_count": null,
      "outputs": [
        {
          "output_type": "execute_result",
          "data": {
            "text/plain": [
              "(50, 43)"
            ]
          },
          "metadata": {},
          "execution_count": 14
        }
      ]
    },
    {
      "cell_type": "code",
      "metadata": {
        "colab": {
          "base_uri": "https://localhost:8080/"
        },
        "id": "98DlKNcQFZ5n",
        "outputId": "144e298d-31d1-4f45-a57d-5f6e995e4bbc"
      },
      "source": [
        "# get the most frequent country shutting down internet\n",
        "data['Which country did the shutdown occur in?'].value_counts()"
      ],
      "execution_count": null,
      "outputs": [
        {
          "output_type": "execute_result",
          "data": {
            "text/plain": [
              "India                         21\n",
              "Myanmar                        5\n",
              "Ethiopia                       2\n",
              "Kazakhstan                     2\n",
              "Uganda                         2\n",
              "Chad                           2\n",
              "Iran (Islamic Republic of)     2\n",
              "Niger                          1\n",
              "Bangladesh                     1\n",
              "Palestine, State of            1\n",
              "Syrian Arab Republic           1\n",
              "Russian Federation             1\n",
              "Belarus                        1\n",
              "Senegal                        1\n",
              "Pakistan                       1\n",
              "China                          1\n",
              "Gabon                          1\n",
              "Congo                          1\n",
              "Cuba                           1\n",
              "Jordan                         1\n",
              "Tajikistan                     1\n",
              "Name: Which country did the shutdown occur in?, dtype: int64"
            ]
          },
          "metadata": {},
          "execution_count": 16
        }
      ]
    },
    {
      "cell_type": "code",
      "metadata": {
        "colab": {
          "base_uri": "https://localhost:8080/",
          "height": 379
        },
        "id": "oiV098I5F2cP",
        "outputId": "eee33bcb-9888-4424-d458-44b0fb3e8ca9"
      },
      "source": [
        "import matplotlib.pyplot as plt\n",
        "# visualize the most frequent country shutting down internet\n",
        "df['Which country did the shutdown occur in?'].value_counts().plot.bar()\n",
        "plt.show()\n",
        "# from the output, India seems to be the country that shuts down the internet the most frequent"
      ],
      "execution_count": null,
      "outputs": [
        {
          "output_type": "display_data",
          "data": {
            "image/png": "[encoded data removed]",
            "text/plain": [
              "<Figure size 432x288 with 1 Axes>"
            ]
          },
          "metadata": {
            "needs_background": "light"
          }
        }
      ]
    },
    {
      "cell_type": "code",
      "metadata": {
        "colab": {
          "base_uri": "https://localhost:8080/"
        },
        "id": "sAR4Y16bGa5K",
        "outputId": "f3e213bd-3f3d-474d-c430-0487f8f947ed"
      },
      "source": [
        "# get the most frequent actual cause of lockdown\n",
        "import pandas as pd\n",
        "data[\"What was the actual cause of the shutdown?\"].value_counts()"
      ],
      "execution_count": null,
      "outputs": [
        {
          "output_type": "execute_result",
          "data": {
            "text/plain": [
              "Political instability            20\n",
              "Protests                         14\n",
              "Elections                         4\n",
              "Unknown                           4\n",
              "Communal violence                 2\n",
              "Religious holiday/anniversary     2\n",
              "Other                             2\n",
              "Information control               1\n",
              "Exam cheating                     1\n",
              "Name: What was the actual cause of the shutdown?, dtype: int64"
            ]
          },
          "metadata": {},
          "execution_count": 18
        }
      ]
    },
    {
      "cell_type": "markdown",
      "metadata": {
        "id": "taw_RbhcEigA"
      },
      "source": [
        ""
      ]
    },
    {
      "cell_type": "code",
      "metadata": {
        "colab": {
          "base_uri": "https://localhost:8080/",
          "height": 403
        },
        "id": "-ZPb5V0OHECL",
        "outputId": "49dd0979-ac13-4f30-93af-e761bd9ea3f1"
      },
      "source": [
        "import matplotlib.pyplot as plt\n",
        "# visualize the most frequent cause of shutting down internet\n",
        "df['What was the actual cause of the shutdown?'].value_counts().plot.bar()\n",
        "plt.show()"
      ],
      "execution_count": null,
      "outputs": [
        {
          "output_type": "display_data",
          "data": {
            "image/png": "[encoded data removed]",
            "text/plain": [
              "<Figure size 432x288 with 1 Axes>"
            ]
          },
          "metadata": {
            "needs_background": "light"
          }
        }
      ]
    },
    {
      "cell_type": "code",
      "metadata": {
        "colab": {
          "base_uri": "https://localhost:8080/"
        },
        "id": "aSeKlJz6IRHh",
        "outputId": "ac04034f-b77e-4c7f-fbae-5d4d42a8c6f9"
      },
      "source": [
        "# Further analysis: get the most frequent country with the most frequent internet shutdown cause\n",
        "import pandas as pd\n",
        "df.groupby(['Which country did the shutdown occur in?','What was the actual cause of the shutdown?']).size().idxmax()"
      ],
      "execution_count": null,
      "outputs": [
        {
          "output_type": "execute_result",
          "data": {
            "text/plain": [
              "('India', 'Political instability')"
            ]
          },
          "metadata": {},
          "execution_count": 21
        }
      ]
    },
    {
      "cell_type": "code",
      "metadata": {
        "colab": {
          "base_uri": "https://localhost:8080/"
        },
        "id": "EVq8fgtMKNjk",
        "outputId": "e24374ba-9608-43d1-cb52-831c6e29182d"
      },
      "source": [
        "# Further analysis: get the most frequent country with the most frequent shutdown order giver\n",
        "import pandas as pd\n",
        "df.groupby(['Which country did the shutdown occur in?','Who ordered the shutdown?']).size().idxmax()"
      ],
      "execution_count": null,
      "outputs": [
        {
          "output_type": "execute_result",
          "data": {
            "text/plain": [
              "('India', 'Local government')"
            ]
          },
          "metadata": {},
          "execution_count": 22
        }
      ]
    },
    {
      "cell_type": "code",
      "metadata": {
        "colab": {
          "base_uri": "https://localhost:8080/",
          "height": 279
        },
        "id": "fJzxEHyJLAw8",
        "outputId": "874628b6-eb2f-41d1-9fba-48e538fbdd5d"
      },
      "source": [
        "# Comparing type of shutdown with services which got impacted \n",
        "import matplotlib.pyplot as plt\n",
        "import pandas as pd\n",
        "plt.plot(df['What type of shutdown is this?'],df['What services did this shutdown impact?'])\n",
        "plt.xlabel(\"type of shutdown\")\n",
        "plt.ylabel(\"type of service got impacted\")\n",
        "plt.show()"
      ],
      "execution_count": null,
      "outputs": [
        {
          "output_type": "display_data",
          "data": {
            "image/png": "[encoded data removed]",
            "text/plain": [
              "<Figure size 432x288 with 1 Axes>"
            ]
          },
          "metadata": {
            "needs_background": "light"
          }
        }
      ]
    },
    {
      "cell_type": "code",
      "metadata": {
        "colab": {
          "base_uri": "https://localhost:8080/"
        },
        "id": "5nhVEm3NUd9O",
        "outputId": "e446062a-42bc-42d5-8015-3e4027f81a73"
      },
      "source": [
        "# get the 5 most frequent justification for the internet shutdown \n",
        "import matplotlib.pyplot as plt\n",
        "n = 5\n",
        "data['What was the official justification given for the shutdown?'].value_counts()[:n].index.tolist()"
      ],
      "execution_count": null,
      "outputs": [
        {
          "output_type": "execute_result",
          "data": {
            "text/plain": [
              "['Unknown',\n",
              " 'National security/ Counter-terrorism',\n",
              " 'Fake news/ Hate speech/ Incendiary content/ Promoting violence',\n",
              " 'Precautionary measure',\n",
              " 'Public safety/ Quell unrest / Restore public order']"
            ]
          },
          "metadata": {},
          "execution_count": 52
        }
      ]
    },
    {
      "cell_type": "code",
      "metadata": {
        "colab": {
          "base_uri": "https://localhost:8080/",
          "height": 578
        },
        "id": "oOkPVtVQVxu0",
        "outputId": "b0149557-11b1-4e07-ae91-98601e19090d"
      },
      "source": [
        "# visualize the most frequent internet justification shutdown\n",
        "import matplotlib.pyplot as plt\n",
        "df['What was the official justification given for the shutdown?'].value_counts().plot.bar()\n",
        "plt.show()"
      ],
      "execution_count": null,
      "outputs": [
        {
          "output_type": "display_data",
          "data": {
            "image/png": "[encoded data removed]",
            "text/plain": [
              "<Figure size 432x288 with 1 Axes>"
            ]
          },
          "metadata": {
            "needs_background": "light"
          }
        }
      ]
    },
    {
      "cell_type": "code",
      "metadata": {
        "id": "LCCJtIZhXh0K",
        "colab": {
          "base_uri": "https://localhost:8080/"
        },
        "outputId": "3522d89b-d004-492e-dc9e-4cde336b7bca"
      },
      "source": [
        "# get the most frequent internet shutdown duration, mean and median of the internet shutdown duration\n",
        "import pandas as pd\n",
        "# convert the columns to datetime using pandas\n",
        "data['When did this shutdown start?'] = pd.to_datetime(data['When did this shutdown start?'])\n",
        "data['When did the shutdown finish?'] = pd.to_datetime(data['When did the shutdown finish?'])\n",
        "data[\"diff\"] = data['When did the shutdown finish?'] - data['When did this shutdown start?']\n",
        "mean = data['diff'].mean()\n",
        "median = data['diff'].median()\n",
        "print(data['diff'].value_counts())\n",
        "print('the mean of the internet shutdown duration is' + ' ' + str(mean))\n",
        "print('the median of the internet shutdown duration is' + ' ' + str(median))"
      ],
      "execution_count": 23,
      "outputs": [
        {
          "output_type": "stream",
          "text": [
            "0 days      12\n",
            "1 days       9\n",
            "2 days       3\n",
            "5 days       2\n",
            "4 days       2\n",
            "6 days       1\n",
            "11 days      1\n",
            "3 days       1\n",
            "9 days       1\n",
            "550 days     1\n",
            "70 days      1\n",
            "592 days     1\n",
            "13 days      1\n",
            "Name: diff, dtype: int64\n",
            "the mean of the internet shutdown duration is 35 days 18:00:00\n",
            "the median of the internet shutdown duration is 1 days 00:00:00\n"
          ],
          "name": "stdout"
        }
      ]
    },
    {
      "cell_type": "code",
      "metadata": {
        "colab": {
          "base_uri": "https://localhost:8080/",
          "height": 348
        },
        "id": "GBW9LQ4N77R4",
        "outputId": "e471560f-23ee-4477-e66d-da653b8428bd"
      },
      "source": [
        "# visualize the data of internet shutdown duration\n",
        "import pandas as pd\n",
        "import matplotlib.pyplot as plt\n",
        "data['diff'].value_counts().plot.bar()\n",
        "plt.show()"
      ],
      "execution_count": 29,
      "outputs": [
        {
          "output_type": "display_data",
          "data": {
            "image/png": "[encoded data removed]",
            "text/plain": [
              "<Figure size 432x288 with 1 Axes>"
            ]
          },
          "metadata": {
            "needs_background": "light"
          }
        }
      ]
    },
    {
      "cell_type": "code",
      "metadata": {
        "colab": {
          "base_uri": "https://localhost:8080/",
          "height": 370
        },
        "id": "L_R2qRW38aeE",
        "outputId": "81124553-a6db-4ba7-ad71-3b41da292d00"
      },
      "source": [
        "# Has the Government acknowledged the shutdown?\n",
        "import matplotlib.pyplot as plt\n",
        "import pandas as pd\n",
        "print(data['Has the Government acknowledged the shutdown?'].value_counts())\n",
        "data['Has the Government acknowledged the shutdown?'].value_counts().plot.bar()\n",
        "plt.show()"
      ],
      "execution_count": 30,
      "outputs": [
        {
          "output_type": "stream",
          "text": [
            "Yes        22\n",
            "No         15\n",
            "Unknown    13\n",
            "Name: Has the Government acknowledged the shutdown?, dtype: int64\n"
          ],
          "name": "stdout"
        },
        {
          "output_type": "display_data",
          "data": {
            "image/png": "[encoded data removed]",
            "text/plain": [
              "<Figure size 432x288 with 1 Axes>"
            ]
          },
          "metadata": {
            "needs_background": "light"
          }
        }
      ]
    }
  ]
}